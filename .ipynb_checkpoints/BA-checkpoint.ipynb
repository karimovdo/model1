{
 "cells": [
  {
   "cell_type": "code",
   "execution_count": 1,
   "id": "a0e4684c",
   "metadata": {},
   "outputs": [],
   "source": [
    "import pandas as pd\n",
    "import seaborn as sns\n",
    "import numpy as np\n",
    "import matplotlib.pyplot as plt\n",
    "import math\n",
    "\n",
    "from sklearn.metrics import accuracy_score\n",
    "from sklearn.model_selection import train_test_split\n",
    "from sklearn.tree import DecisionTreeClassifier\n",
    "from sklearn.ensemble import RandomForestClassifier\n",
    "from sklearn import metrics\n",
    "from sklearn.linear_model import LogisticRegression\n",
    "from sklearn.neighbors import KNeighborsClassifier\n",
    "from sklearn.svm import SVC\n",
    "from sklearn.naive_bayes import GaussianNB\n",
    "from sklearn.metrics import accuracy_score\n",
    "from sklearn.metrics import f1_score\n",
    "from sklearn.gaussian_process import GaussianProcessClassifier\n",
    "from sklearn.gaussian_process.kernels import RBF\n",
    "from sklearn.neural_network import MLPClassifier\n",
    "from sklearn.ensemble import RandomForestClassifier, AdaBoostClassifier\n",
    "from sklearn.discriminant_analysis import QuadraticDiscriminantAnalysis\n",
    "from sklearn.metrics import mean_squared_error, r2_score, median_absolute_error\n",
    "from sklearn.dummy import DummyClassifier\n",
    "from sklearn.preprocessing import LabelEncoder\n",
    "encoder = LabelEncoder()\n",
    "from sklearn.model_selection import cross_val_score\n",
    "from sklearn.model_selection import GridSearchCV\n",
    "from sklearn.model_selection import RandomizedSearchCV\n",
    "from sklearn.model_selection import StratifiedKFold"
   ]
  },
  {
   "cell_type": "code",
   "execution_count": 8,
   "id": "99d60de6",
   "metadata": {},
   "outputs": [],
   "source": [
    "data = pd.read_csv(\n",
    "'C:/Users/KarimovDO/Documents/GitHub/model1/ba.csv')\n"
   ]
  },
  {
   "cell_type": "code",
   "execution_count": 9,
   "id": "892d7a32",
   "metadata": {},
   "outputs": [
    {
     "name": "stdout",
     "output_type": "stream",
     "text": [
      "<class 'pandas.core.frame.DataFrame'>\n",
      "RangeIndex: 174 entries, 0 to 173\n",
      "Data columns (total 20 columns):\n",
      " #   Column            Non-Null Count  Dtype  \n",
      "---  ------            --------------  -----  \n",
      " 0   Тяжесть           174 non-null    int64  \n",
      " 1   Уровень_VIP       104 non-null    float64\n",
      " 2   Уровень_SP        104 non-null    float64\n",
      " 3   SNP_rs896         104 non-null    float64\n",
      " 4   SNP_rs2072100     104 non-null    float64\n",
      " 5   SNP_rs3771829     104 non-null    float64\n",
      " 6   SNP_rs3823082     102 non-null    float64\n",
      " 7   VAR_mc            174 non-null    int64  \n",
      " 8   aVNN_mc           174 non-null    int64  \n",
      " 9   SDNN_mc           174 non-null    int64  \n",
      " 10  pNN50             174 non-null    int64  \n",
      " 11  rMSSD             174 non-null    int64  \n",
      " 12  SDNNidx_mc        174 non-null    int64  \n",
      " 13  SDANN_mc          174 non-null    int64  \n",
      " 14  VLF               174 non-null    int64  \n",
      " 15  LF_Симпатика      174 non-null    int64  \n",
      " 16  HF_Парасимпатика  174 non-null    int64  \n",
      " 17  nHF               174 non-null    int64  \n",
      " 18  CBBP              174 non-null    int64  \n",
      " 19  LF_HF             174 non-null    float64\n",
      "dtypes: float64(7), int64(13)\n",
      "memory usage: 27.3 KB\n"
     ]
    }
   ],
   "source": [
    "data.info()"
   ]
  },
  {
   "cell_type": "code",
   "execution_count": null,
   "id": "7127c9f1",
   "metadata": {},
   "outputs": [],
   "source": []
  }
 ],
 "metadata": {
  "kernelspec": {
   "display_name": "Python 3 (ipykernel)",
   "language": "python",
   "name": "python3"
  },
  "language_info": {
   "codemirror_mode": {
    "name": "ipython",
    "version": 3
   },
   "file_extension": ".py",
   "mimetype": "text/x-python",
   "name": "python",
   "nbconvert_exporter": "python",
   "pygments_lexer": "ipython3",
   "version": "3.9.12"
  }
 },
 "nbformat": 4,
 "nbformat_minor": 5
}
